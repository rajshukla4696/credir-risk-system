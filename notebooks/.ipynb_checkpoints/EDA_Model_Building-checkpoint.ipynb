{
 "cells": [
  {
   "cell_type": "code",
   "execution_count": 43,
   "id": "16474c1a-5b61-4536-bb06-ee7bf364b71f",
   "metadata": {},
   "outputs": [
    {
     "name": "stdout",
     "output_type": "stream",
     "text": [
      "C:\\Python_Lab\\ineuron\\internship\\Predict Bank Credit Risk using South German Credit Data\\Credit_Risk\\data\\raw\n"
     ]
    },
    {
     "data": {
      "text/plain": [
       "'C:\\\\Python_Lab\\\\ineuron\\\\internship\\\\Predict Bank Credit Risk using South German Credit Data\\\\Credit_Risk\\\\data\\\\raw\\\\SouthGermanCredit.csv'"
      ]
     },
     "execution_count": 43,
     "metadata": {},
     "output_type": "execute_result"
    }
   ],
   "source": [
    "import pandas as pd\n",
    "import numpy as np\n",
    "from sklearn import metrics\n",
    "from sklearn.metrics import roc_curve, f1_score\n",
    "from sklearn.ensemble import RandomForestClassifier\n",
    "from sklearn.preprocessing import OneHotEncoder\n",
    "import os\n",
    "import warnings\n",
    "import matplotlib.pyplot as plt\n",
    "input_dir = os.path.join(os.path.dirname(os.getcwd()), 'data','raw')\n",
    "print(input_dir)\n",
    "input_dirr=os.path.join(input_dir,\"SouthGermanCredit.csv\")\n",
    "input_dirr"
   ]
  },
  {
   "cell_type": "code",
   "execution_count": 44,
   "id": "39e55320-4a5f-4137-9d05-c9e134a72e69",
   "metadata": {},
   "outputs": [
    {
     "data": {
      "text/plain": [
       "'C:\\\\Python_Lab\\\\ineuron\\\\internship\\\\Predict Bank Credit Risk using South German Credit Data\\\\Credit_Risk\\\\notebooks'"
      ]
     },
     "execution_count": 44,
     "metadata": {},
     "output_type": "execute_result"
    }
   ],
   "source": [
    "os.getcwd()"
   ]
  },
  {
   "cell_type": "code",
   "execution_count": 45,
   "id": "f6128372-0ba7-4b10-a548-a8d0ed701376",
   "metadata": {},
   "outputs": [
    {
     "data": {
      "text/html": [
       "<div>\n",
       "<style scoped>\n",
       "    .dataframe tbody tr th:only-of-type {\n",
       "        vertical-align: middle;\n",
       "    }\n",
       "\n",
       "    .dataframe tbody tr th {\n",
       "        vertical-align: top;\n",
       "    }\n",
       "\n",
       "    .dataframe thead th {\n",
       "        text-align: right;\n",
       "    }\n",
       "</style>\n",
       "<table border=\"1\" class=\"dataframe\">\n",
       "  <thead>\n",
       "    <tr style=\"text-align: right;\">\n",
       "      <th></th>\n",
       "      <th>status</th>\n",
       "      <th>duration</th>\n",
       "      <th>credit_history</th>\n",
       "      <th>purpose</th>\n",
       "      <th>amount</th>\n",
       "      <th>savings</th>\n",
       "      <th>employment_duration</th>\n",
       "      <th>installment_rate</th>\n",
       "      <th>personal_status_sex</th>\n",
       "      <th>other_debtors</th>\n",
       "      <th>...</th>\n",
       "      <th>property</th>\n",
       "      <th>age</th>\n",
       "      <th>other_installment_plans</th>\n",
       "      <th>housing</th>\n",
       "      <th>number_credits</th>\n",
       "      <th>job</th>\n",
       "      <th>people_liable</th>\n",
       "      <th>telephone</th>\n",
       "      <th>foreign_worker</th>\n",
       "      <th>credit_risk</th>\n",
       "    </tr>\n",
       "  </thead>\n",
       "  <tbody>\n",
       "    <tr>\n",
       "      <th>0</th>\n",
       "      <td>1</td>\n",
       "      <td>18</td>\n",
       "      <td>4</td>\n",
       "      <td>2</td>\n",
       "      <td>1049</td>\n",
       "      <td>1</td>\n",
       "      <td>2</td>\n",
       "      <td>4</td>\n",
       "      <td>2</td>\n",
       "      <td>1</td>\n",
       "      <td>...</td>\n",
       "      <td>2</td>\n",
       "      <td>21</td>\n",
       "      <td>3</td>\n",
       "      <td>1</td>\n",
       "      <td>1</td>\n",
       "      <td>3</td>\n",
       "      <td>2</td>\n",
       "      <td>1</td>\n",
       "      <td>2</td>\n",
       "      <td>1</td>\n",
       "    </tr>\n",
       "    <tr>\n",
       "      <th>1</th>\n",
       "      <td>1</td>\n",
       "      <td>9</td>\n",
       "      <td>4</td>\n",
       "      <td>0</td>\n",
       "      <td>2799</td>\n",
       "      <td>1</td>\n",
       "      <td>3</td>\n",
       "      <td>2</td>\n",
       "      <td>3</td>\n",
       "      <td>1</td>\n",
       "      <td>...</td>\n",
       "      <td>1</td>\n",
       "      <td>36</td>\n",
       "      <td>3</td>\n",
       "      <td>1</td>\n",
       "      <td>2</td>\n",
       "      <td>3</td>\n",
       "      <td>1</td>\n",
       "      <td>1</td>\n",
       "      <td>2</td>\n",
       "      <td>1</td>\n",
       "    </tr>\n",
       "    <tr>\n",
       "      <th>2</th>\n",
       "      <td>2</td>\n",
       "      <td>12</td>\n",
       "      <td>2</td>\n",
       "      <td>9</td>\n",
       "      <td>841</td>\n",
       "      <td>2</td>\n",
       "      <td>4</td>\n",
       "      <td>2</td>\n",
       "      <td>2</td>\n",
       "      <td>1</td>\n",
       "      <td>...</td>\n",
       "      <td>1</td>\n",
       "      <td>23</td>\n",
       "      <td>3</td>\n",
       "      <td>1</td>\n",
       "      <td>1</td>\n",
       "      <td>2</td>\n",
       "      <td>2</td>\n",
       "      <td>1</td>\n",
       "      <td>2</td>\n",
       "      <td>1</td>\n",
       "    </tr>\n",
       "    <tr>\n",
       "      <th>3</th>\n",
       "      <td>1</td>\n",
       "      <td>12</td>\n",
       "      <td>4</td>\n",
       "      <td>0</td>\n",
       "      <td>2122</td>\n",
       "      <td>1</td>\n",
       "      <td>3</td>\n",
       "      <td>3</td>\n",
       "      <td>3</td>\n",
       "      <td>1</td>\n",
       "      <td>...</td>\n",
       "      <td>1</td>\n",
       "      <td>39</td>\n",
       "      <td>3</td>\n",
       "      <td>1</td>\n",
       "      <td>2</td>\n",
       "      <td>2</td>\n",
       "      <td>1</td>\n",
       "      <td>1</td>\n",
       "      <td>1</td>\n",
       "      <td>1</td>\n",
       "    </tr>\n",
       "    <tr>\n",
       "      <th>4</th>\n",
       "      <td>1</td>\n",
       "      <td>12</td>\n",
       "      <td>4</td>\n",
       "      <td>0</td>\n",
       "      <td>2171</td>\n",
       "      <td>1</td>\n",
       "      <td>3</td>\n",
       "      <td>4</td>\n",
       "      <td>3</td>\n",
       "      <td>1</td>\n",
       "      <td>...</td>\n",
       "      <td>2</td>\n",
       "      <td>38</td>\n",
       "      <td>1</td>\n",
       "      <td>2</td>\n",
       "      <td>2</td>\n",
       "      <td>2</td>\n",
       "      <td>2</td>\n",
       "      <td>1</td>\n",
       "      <td>1</td>\n",
       "      <td>1</td>\n",
       "    </tr>\n",
       "  </tbody>\n",
       "</table>\n",
       "<p>5 rows × 21 columns</p>\n",
       "</div>"
      ],
      "text/plain": [
       "   status  duration  credit_history  purpose  amount  savings  \\\n",
       "0       1        18               4        2    1049        1   \n",
       "1       1         9               4        0    2799        1   \n",
       "2       2        12               2        9     841        2   \n",
       "3       1        12               4        0    2122        1   \n",
       "4       1        12               4        0    2171        1   \n",
       "\n",
       "   employment_duration  installment_rate  personal_status_sex  other_debtors  \\\n",
       "0                    2                 4                    2              1   \n",
       "1                    3                 2                    3              1   \n",
       "2                    4                 2                    2              1   \n",
       "3                    3                 3                    3              1   \n",
       "4                    3                 4                    3              1   \n",
       "\n",
       "   ...  property  age  other_installment_plans  housing  number_credits  job  \\\n",
       "0  ...         2   21                        3        1               1    3   \n",
       "1  ...         1   36                        3        1               2    3   \n",
       "2  ...         1   23                        3        1               1    2   \n",
       "3  ...         1   39                        3        1               2    2   \n",
       "4  ...         2   38                        1        2               2    2   \n",
       "\n",
       "   people_liable  telephone  foreign_worker  credit_risk  \n",
       "0              2          1               2            1  \n",
       "1              1          1               2            1  \n",
       "2              2          1               2            1  \n",
       "3              1          1               1            1  \n",
       "4              2          1               1            1  \n",
       "\n",
       "[5 rows x 21 columns]"
      ]
     },
     "execution_count": 45,
     "metadata": {},
     "output_type": "execute_result"
    }
   ],
   "source": [
    "df = pd.read_csv(input_dirr)\n",
    "df.head()"
   ]
  },
  {
   "cell_type": "code",
   "execution_count": 102,
   "id": "83f0617d-75ee-4a77-aa98-35be3c874a29",
   "metadata": {},
   "outputs": [
    {
     "ename": "KeyError",
     "evalue": "CategoricalDtype(categories=[1, 2, 3, 4], ordered=False)",
     "output_type": "error",
     "traceback": [
      "\u001b[1;31m---------------------------------------------------------------------------\u001b[0m",
      "\u001b[1;31mKeyError\u001b[0m                                  Traceback (most recent call last)",
      "\u001b[1;32mC:\\Python_Lab\\ineuron\\internship\\Predict Bank Credit Risk using South German Credit Data\\Credit_Risk\\envs\\lib\\site-packages\\pandas\\core\\indexes\\base.py\u001b[0m in \u001b[0;36mget_loc\u001b[1;34m(self, key, method, tolerance)\u001b[0m\n\u001b[0;32m   3360\u001b[0m             \u001b[1;32mtry\u001b[0m\u001b[1;33m:\u001b[0m\u001b[1;33m\u001b[0m\u001b[1;33m\u001b[0m\u001b[0m\n\u001b[1;32m-> 3361\u001b[1;33m                 \u001b[1;32mreturn\u001b[0m \u001b[0mself\u001b[0m\u001b[1;33m.\u001b[0m\u001b[0m_engine\u001b[0m\u001b[1;33m.\u001b[0m\u001b[0mget_loc\u001b[0m\u001b[1;33m(\u001b[0m\u001b[0mcasted_key\u001b[0m\u001b[1;33m)\u001b[0m\u001b[1;33m\u001b[0m\u001b[1;33m\u001b[0m\u001b[0m\n\u001b[0m\u001b[0;32m   3362\u001b[0m             \u001b[1;32mexcept\u001b[0m \u001b[0mKeyError\u001b[0m \u001b[1;32mas\u001b[0m \u001b[0merr\u001b[0m\u001b[1;33m:\u001b[0m\u001b[1;33m\u001b[0m\u001b[1;33m\u001b[0m\u001b[0m\n",
      "\u001b[1;32mC:\\Python_Lab\\ineuron\\internship\\Predict Bank Credit Risk using South German Credit Data\\Credit_Risk\\envs\\lib\\site-packages\\pandas\\_libs\\index.pyx\u001b[0m in \u001b[0;36mpandas._libs.index.IndexEngine.get_loc\u001b[1;34m()\u001b[0m\n",
      "\u001b[1;32mC:\\Python_Lab\\ineuron\\internship\\Predict Bank Credit Risk using South German Credit Data\\Credit_Risk\\envs\\lib\\site-packages\\pandas\\_libs\\index.pyx\u001b[0m in \u001b[0;36mpandas._libs.index.IndexEngine.get_loc\u001b[1;34m()\u001b[0m\n",
      "\u001b[1;32mpandas\\_libs\\hashtable_class_helper.pxi\u001b[0m in \u001b[0;36mpandas._libs.hashtable.PyObjectHashTable.get_item\u001b[1;34m()\u001b[0m\n",
      "\u001b[1;32mpandas\\_libs\\hashtable_class_helper.pxi\u001b[0m in \u001b[0;36mpandas._libs.hashtable.PyObjectHashTable.get_item\u001b[1;34m()\u001b[0m\n",
      "\u001b[1;31mKeyError\u001b[0m: CategoricalDtype(categories=[1, 2, 3, 4], ordered=False)",
      "\nThe above exception was the direct cause of the following exception:\n",
      "\u001b[1;31mKeyError\u001b[0m                                  Traceback (most recent call last)",
      "\u001b[1;32m~\\AppData\\Local\\Temp/ipykernel_202716/2745784152.py\u001b[0m in \u001b[0;36m<module>\u001b[1;34m\u001b[0m\n\u001b[0;32m      1\u001b[0m \u001b[1;32mfor\u001b[0m \u001b[0mcol\u001b[0m \u001b[1;32min\u001b[0m \u001b[0mdf\u001b[0m\u001b[1;33m.\u001b[0m\u001b[0mdtypes\u001b[0m\u001b[1;33m:\u001b[0m\u001b[1;33m\u001b[0m\u001b[1;33m\u001b[0m\u001b[0m\n\u001b[1;32m----> 2\u001b[1;33m     \u001b[0mprint\u001b[0m\u001b[1;33m(\u001b[0m\u001b[0mcol\u001b[0m\u001b[1;33m,\u001b[0m \u001b[0mtype\u001b[0m\u001b[1;33m(\u001b[0m\u001b[0mdf\u001b[0m\u001b[1;33m[\u001b[0m\u001b[0mcol\u001b[0m\u001b[1;33m]\u001b[0m\u001b[1;33m)\u001b[0m\u001b[1;33m)\u001b[0m\u001b[1;33m\u001b[0m\u001b[1;33m\u001b[0m\u001b[0m\n\u001b[0m",
      "\u001b[1;32mC:\\Python_Lab\\ineuron\\internship\\Predict Bank Credit Risk using South German Credit Data\\Credit_Risk\\envs\\lib\\site-packages\\pandas\\core\\frame.py\u001b[0m in \u001b[0;36m__getitem__\u001b[1;34m(self, key)\u001b[0m\n\u001b[0;32m   3456\u001b[0m             \u001b[1;32mif\u001b[0m \u001b[0mself\u001b[0m\u001b[1;33m.\u001b[0m\u001b[0mcolumns\u001b[0m\u001b[1;33m.\u001b[0m\u001b[0mnlevels\u001b[0m \u001b[1;33m>\u001b[0m \u001b[1;36m1\u001b[0m\u001b[1;33m:\u001b[0m\u001b[1;33m\u001b[0m\u001b[1;33m\u001b[0m\u001b[0m\n\u001b[0;32m   3457\u001b[0m                 \u001b[1;32mreturn\u001b[0m \u001b[0mself\u001b[0m\u001b[1;33m.\u001b[0m\u001b[0m_getitem_multilevel\u001b[0m\u001b[1;33m(\u001b[0m\u001b[0mkey\u001b[0m\u001b[1;33m)\u001b[0m\u001b[1;33m\u001b[0m\u001b[1;33m\u001b[0m\u001b[0m\n\u001b[1;32m-> 3458\u001b[1;33m             \u001b[0mindexer\u001b[0m \u001b[1;33m=\u001b[0m \u001b[0mself\u001b[0m\u001b[1;33m.\u001b[0m\u001b[0mcolumns\u001b[0m\u001b[1;33m.\u001b[0m\u001b[0mget_loc\u001b[0m\u001b[1;33m(\u001b[0m\u001b[0mkey\u001b[0m\u001b[1;33m)\u001b[0m\u001b[1;33m\u001b[0m\u001b[1;33m\u001b[0m\u001b[0m\n\u001b[0m\u001b[0;32m   3459\u001b[0m             \u001b[1;32mif\u001b[0m \u001b[0mis_integer\u001b[0m\u001b[1;33m(\u001b[0m\u001b[0mindexer\u001b[0m\u001b[1;33m)\u001b[0m\u001b[1;33m:\u001b[0m\u001b[1;33m\u001b[0m\u001b[1;33m\u001b[0m\u001b[0m\n\u001b[0;32m   3460\u001b[0m                 \u001b[0mindexer\u001b[0m \u001b[1;33m=\u001b[0m \u001b[1;33m[\u001b[0m\u001b[0mindexer\u001b[0m\u001b[1;33m]\u001b[0m\u001b[1;33m\u001b[0m\u001b[1;33m\u001b[0m\u001b[0m\n",
      "\u001b[1;32mC:\\Python_Lab\\ineuron\\internship\\Predict Bank Credit Risk using South German Credit Data\\Credit_Risk\\envs\\lib\\site-packages\\pandas\\core\\indexes\\base.py\u001b[0m in \u001b[0;36mget_loc\u001b[1;34m(self, key, method, tolerance)\u001b[0m\n\u001b[0;32m   3361\u001b[0m                 \u001b[1;32mreturn\u001b[0m \u001b[0mself\u001b[0m\u001b[1;33m.\u001b[0m\u001b[0m_engine\u001b[0m\u001b[1;33m.\u001b[0m\u001b[0mget_loc\u001b[0m\u001b[1;33m(\u001b[0m\u001b[0mcasted_key\u001b[0m\u001b[1;33m)\u001b[0m\u001b[1;33m\u001b[0m\u001b[1;33m\u001b[0m\u001b[0m\n\u001b[0;32m   3362\u001b[0m             \u001b[1;32mexcept\u001b[0m \u001b[0mKeyError\u001b[0m \u001b[1;32mas\u001b[0m \u001b[0merr\u001b[0m\u001b[1;33m:\u001b[0m\u001b[1;33m\u001b[0m\u001b[1;33m\u001b[0m\u001b[0m\n\u001b[1;32m-> 3363\u001b[1;33m                 \u001b[1;32mraise\u001b[0m \u001b[0mKeyError\u001b[0m\u001b[1;33m(\u001b[0m\u001b[0mkey\u001b[0m\u001b[1;33m)\u001b[0m \u001b[1;32mfrom\u001b[0m \u001b[0merr\u001b[0m\u001b[1;33m\u001b[0m\u001b[1;33m\u001b[0m\u001b[0m\n\u001b[0m\u001b[0;32m   3364\u001b[0m \u001b[1;33m\u001b[0m\u001b[0m\n\u001b[0;32m   3365\u001b[0m         \u001b[1;32mif\u001b[0m \u001b[0mis_scalar\u001b[0m\u001b[1;33m(\u001b[0m\u001b[0mkey\u001b[0m\u001b[1;33m)\u001b[0m \u001b[1;32mand\u001b[0m \u001b[0misna\u001b[0m\u001b[1;33m(\u001b[0m\u001b[0mkey\u001b[0m\u001b[1;33m)\u001b[0m \u001b[1;32mand\u001b[0m \u001b[1;32mnot\u001b[0m \u001b[0mself\u001b[0m\u001b[1;33m.\u001b[0m\u001b[0mhasnans\u001b[0m\u001b[1;33m:\u001b[0m\u001b[1;33m\u001b[0m\u001b[1;33m\u001b[0m\u001b[0m\n",
      "\u001b[1;31mKeyError\u001b[0m: CategoricalDtype(categories=[1, 2, 3, 4], ordered=False)"
     ]
    }
   ],
   "source": [
    "for col in df.dtypes:\n",
    "    print(col, )"
   ]
  },
  {
   "cell_type": "code",
   "execution_count": 46,
   "id": "9abe12b0-efde-4483-b935-aa00d532e378",
   "metadata": {},
   "outputs": [
    {
     "name": "stdout",
     "output_type": "stream",
     "text": [
      "Shape before deleting duplicate values: (1000, 21)\n"
     ]
    }
   ],
   "source": [
    "print('Shape before deleting duplicate values:', df.shape)"
   ]
  },
  {
   "cell_type": "code",
   "execution_count": 47,
   "id": "ef899f0b-41eb-4e20-aacf-5f01c0e2a3c6",
   "metadata": {},
   "outputs": [
    {
     "name": "stdout",
     "output_type": "stream",
     "text": [
      "Shape After removing duplicate values: (1000, 21)\n"
     ]
    }
   ],
   "source": [
    "# Removing duplicate rows if any\n",
    "df=df.drop_duplicates()\n",
    "print('Shape After removing duplicate values:', df.shape)"
   ]
  },
  {
   "cell_type": "code",
   "execution_count": 48,
   "id": "57af286c-59dc-47c6-81c0-1171499ebfd0",
   "metadata": {},
   "outputs": [
    {
     "data": {
      "text/plain": [
       "<AxesSubplot:xlabel='credit_risk'>"
      ]
     },
     "execution_count": 48,
     "metadata": {},
     "output_type": "execute_result"
    },
    {
     "data": {
      "image/png": "[encoded data removed]",
      "text/plain": [
       "<Figure size 288x216 with 1 Axes>"
      ]
     },
     "metadata": {
      "needs_background": "light"
     },
     "output_type": "display_data"
    }
   ],
   "source": [
    "%matplotlib inline\n",
    "# Creating Bar chart of credit_risk(Target) as it's a Categorical variable\n",
    "target_col=df.groupby('credit_risk').size()\n",
    "target_col.plot(kind='bar', figsize=(4,3))"
   ]
  },
  {
   "cell_type": "code",
   "execution_count": 49,
   "id": "24c52ff5-fcde-4bfe-adcf-ad717ba1a3f8",
   "metadata": {},
   "outputs": [
    {
     "data": {
      "text/plain": [
       "status                     0\n",
       "duration                   0\n",
       "credit_history             0\n",
       "purpose                    0\n",
       "amount                     0\n",
       "savings                    0\n",
       "employment_duration        0\n",
       "installment_rate           0\n",
       "personal_status_sex        0\n",
       "other_debtors              0\n",
       "present_residence          0\n",
       "property                   0\n",
       "age                        0\n",
       "other_installment_plans    0\n",
       "housing                    0\n",
       "number_credits             0\n",
       "job                        0\n",
       "people_liable              0\n",
       "telephone                  0\n",
       "foreign_worker             0\n",
       "credit_risk                0\n",
       "dtype: int64"
      ]
     },
     "execution_count": 49,
     "metadata": {},
     "output_type": "execute_result"
    }
   ],
   "source": [
    "# Finding how many missing values are there for each column\n",
    "df.isnull().sum()"
   ]
  },
  {
   "cell_type": "code",
   "execution_count": 50,
   "id": "f7e04cec-efef-4c9a-aa4d-2f7c3da42f23",
   "metadata": {},
   "outputs": [
    {
     "data": {
      "text/plain": [
       "status                     category\n",
       "duration                      int64\n",
       "credit_history             category\n",
       "purpose                    category\n",
       "amount                        int64\n",
       "savings                    category\n",
       "employment_duration        category\n",
       "installment_rate           category\n",
       "personal_status_sex        category\n",
       "other_debtors              category\n",
       "present_residence          category\n",
       "property                   category\n",
       "age                           int64\n",
       "other_installment_plans    category\n",
       "housing                    category\n",
       "number_credits             category\n",
       "job                        category\n",
       "people_liable              category\n",
       "telephone                  category\n",
       "foreign_worker             category\n",
       "credit_risk                category\n",
       "dtype: object"
      ]
     },
     "execution_count": 50,
     "metadata": {},
     "output_type": "execute_result"
    }
   ],
   "source": [
    "#df['status'] = df['status'].apply(lambda col:pd.Categorical(col).codes)\n",
    "\n",
    "\n",
    "df.status = pd.Categorical(df.status)\n",
    "df.credit_history = pd.Categorical(df.credit_history)\n",
    "\n",
    "df.purpose = pd.Categorical(df.purpose)\n",
    "df.savings = pd.Categorical(df.savings)\n",
    "df.personal_status_sex = pd.Categorical(df.personal_status_sex)\n",
    "df.other_debtors = pd.Categorical(df.other_debtors)\n",
    "df.other_installment_plans = pd.Categorical(df.other_installment_plans)\n",
    "df.housing = pd.Categorical(df.housing)\n",
    "df.job = pd.Categorical(df.job)\n",
    "df.people_liable = pd.Categorical(df.people_liable)\n",
    "df.telephone = pd.Categorical(df.telephone)\n",
    "df.foreign_worker = pd.Categorical(df.foreign_worker)\n",
    "df.credit_risk = pd.Categorical(df.credit_risk)\n",
    "df.employment_duration = pd.Categorical(df.employment_duration)\n",
    "df.installment_rate = pd.Categorical(df.installment_rate)\n",
    "df.present_residence = pd.Categorical(df.present_residence)\n",
    "df.property = pd.Categorical(df.property)\n",
    "df.number_credits = pd.Categorical(df.number_credits)\n",
    "for col in df.dtypes:\n",
    "    print(f'{col}: float'"
   ]
  },
  {
   "cell_type": "code",
   "execution_count": 51,
   "id": "ad4087be-750b-4039-9868-73d6186065a0",
   "metadata": {},
   "outputs": [],
   "source": [
    "# Defining a function to find the statistical relationship with all the categorical variables\n",
    "def FunctionAnova(inpData, TargetVariable, ContinuousPredictorList):\n",
    "    from scipy.stats import f_oneway\n",
    "\n",
    "    # Creating an empty list of final selected predictors\n",
    "    SelectedPredictors=[]\n",
    "    \n",
    "    print('##### ANOVA Results ##### \\n')\n",
    "    for predictor in ContinuousPredictorList:\n",
    "        CategoryGroupLists=inpData.groupby(TargetVariable)[predictor].apply(list)\n",
    "        AnovaResults = f_oneway(*CategoryGroupLists)\n",
    "        \n",
    "        # If the ANOVA P-Value is <0.05, that means we reject H0\n",
    "        if (AnovaResults[1] < 0.05):\n",
    "            print(predictor, 'is correlated with', TargetVariable, '| P-Value:', AnovaResults[1])\n",
    "            SelectedPredictors.append(predictor)\n",
    "        else:\n",
    "            print(predictor, 'is NOT correlated with', TargetVariable, '| P-Value:', AnovaResults[1])\n",
    "    \n",
    "    return(SelectedPredictors)\n"
   ]
  },
  {
   "cell_type": "code",
   "execution_count": 52,
   "id": "4944ac08-7fc3-4ea2-b42e-ff3df396e68b",
   "metadata": {},
   "outputs": [],
   "source": [
    "#exclude dependent variable\n",
    "\n",
    "target_variable = df.iloc[:,-1]\n"
   ]
  },
  {
   "cell_type": "code",
   "execution_count": 53,
   "id": "e4acff29-2b00-4731-b7aa-dc3a61105a51",
   "metadata": {},
   "outputs": [
    {
     "data": {
      "text/plain": [
       "'credit_risk'"
      ]
     },
     "execution_count": 53,
     "metadata": {},
     "output_type": "execute_result"
    }
   ],
   "source": [
    "target_variable=target_variable.name\n",
    "target_variable"
   ]
  },
  {
   "cell_type": "code",
   "execution_count": 54,
   "id": "b37d926d-f41f-4647-9588-ccdde3b5d031",
   "metadata": {},
   "outputs": [
    {
     "name": "stdout",
     "output_type": "stream",
     "text": [
      "##### ANOVA Results ##### \n",
      "\n",
      "duration is correlated with credit_risk | P-Value: 6.488049877187189e-12\n",
      "amount is correlated with credit_risk | P-Value: 8.795399017206301e-07\n",
      "age is correlated with credit_risk | P-Value: 0.003868455281308189\n"
     ]
    }
   ],
   "source": [
    "# Calling the function to check which categorical variables are correlated with target\n",
    "ContinuousVariables=df.select_dtypes(include='int64').columns\n",
    "select_cont_column=FunctionAnova(inpData=df, TargetVariable=target_variable, ContinuousPredictorList=ContinuousVariables)"
   ]
  },
  {
   "cell_type": "code",
   "execution_count": 55,
   "id": "df6fdbca-3b89-4328-867f-63e96da0f02d",
   "metadata": {},
   "outputs": [
    {
     "data": {
      "text/plain": [
       "['duration', 'amount', 'age']"
      ]
     },
     "execution_count": 55,
     "metadata": {},
     "output_type": "execute_result"
    }
   ],
   "source": [
    "select_cont_column"
   ]
  },
  {
   "cell_type": "code",
   "execution_count": 56,
   "id": "c0a74b63-ac73-40cc-8784-779f4c3bc1d5",
   "metadata": {},
   "outputs": [
    {
     "data": {
      "text/plain": [
       "Index(['status', 'duration', 'credit_history', 'purpose', 'amount', 'savings',\n",
       "       'employment_duration', 'installment_rate', 'personal_status_sex',\n",
       "       'other_debtors', 'present_residence', 'property', 'age',\n",
       "       'other_installment_plans', 'housing', 'number_credits', 'job',\n",
       "       'people_liable', 'telephone', 'foreign_worker', 'credit_risk'],\n",
       "      dtype='object')"
      ]
     },
     "execution_count": 56,
     "metadata": {},
     "output_type": "execute_result"
    }
   ],
   "source": [
    "df.columns"
   ]
  },
  {
   "cell_type": "code",
   "execution_count": 57,
   "id": "b973d9a0-5613-48ea-ae4d-85b81df0d7cf",
   "metadata": {},
   "outputs": [
    {
     "name": "stdout",
     "output_type": "stream",
     "text": [
      "Index(['status', 'credit_history', 'purpose', 'savings', 'employment_duration',\n",
      "       'installment_rate', 'personal_status_sex', 'other_debtors',\n",
      "       'present_residence', 'property', 'other_installment_plans', 'housing',\n",
      "       'number_credits', 'job', 'people_liable', 'telephone', 'foreign_worker',\n",
      "       'credit_risk'],\n",
      "      dtype='object')\n",
      "credit_risk\n"
     ]
    }
   ],
   "source": [
    "a=df.select_dtypes(include='category').columns\n",
    "print(a)\n",
    "print(target_variable)\n"
   ]
  },
  {
   "cell_type": "code",
   "execution_count": 58,
   "id": "21d8aeeb-ed11-47b4-bddd-bdaa234a9a50",
   "metadata": {},
   "outputs": [
    {
     "data": {
      "text/plain": [
       "'\\ntarget_variable=target_variable.tolist()\\na=a.tolist()\\nprint(a)\\nprint(df)\\nprint(target_variable)\\n'"
      ]
     },
     "execution_count": 58,
     "metadata": {},
     "output_type": "execute_result"
    }
   ],
   "source": [
    "\"\"\"\n",
    "target_variable=target_variable.tolist()\n",
    "a=a.tolist()\n",
    "print(a)\n",
    "print(df)\n",
    "print(target_variable)\n",
    "\"\"\""
   ]
  },
  {
   "cell_type": "code",
   "execution_count": 59,
   "id": "63b4f935-c09a-475b-95cc-046e4c16b4e8",
   "metadata": {},
   "outputs": [],
   "source": [
    "# Writing a function to find the correlation of all categorical variables with the Target variable\n",
    "def FunctionChisq(inpData, TargetVariable, CategoricalVariablesList):\n",
    "    from scipy.stats import chi2_contingency\n",
    "    \n",
    "    # Creating an empty list of final selected predictors\n",
    "    SelectedPredictors=[]\n",
    "\n",
    "    for predictor in CategoricalVariablesList:\n",
    "        CrossTabResult=pd.crosstab(index=inpData[TargetVariable], columns=inpData[predictor])\n",
    "        ChiSqResult = chi2_contingency(CrossTabResult)\n",
    "        \n",
    "        # If the ChiSq P-Value is <0.05, that means we reject H0\n",
    "        if (ChiSqResult[1] < 0.05):\n",
    "            print(predictor, 'is correlated with', TargetVariable, '| P-Value:', ChiSqResult[1])\n",
    "            SelectedPredictors.append(predictor)\n",
    "        else:\n",
    "            print(predictor, 'is NOT correlated with', TargetVariable, '| P-Value:', ChiSqResult[1])        \n",
    "            \n",
    "    return(SelectedPredictors)"
   ]
  },
  {
   "cell_type": "code",
   "execution_count": 60,
   "id": "085c92f6-8547-4ea8-9a89-e28aa823c67b",
   "metadata": {},
   "outputs": [
    {
     "name": "stdout",
     "output_type": "stream",
     "text": [
      "status is correlated with credit_risk | P-Value: 1.2189020722893755e-26\n",
      "credit_history is correlated with credit_risk | P-Value: 1.2791872956750918e-12\n",
      "purpose is correlated with credit_risk | P-Value: 0.00011574910079691586\n",
      "savings is correlated with credit_risk | P-Value: 2.761214238568249e-07\n",
      "employment_duration is correlated with credit_risk | P-Value: 0.0010454523491402541\n",
      "installment_rate is NOT correlated with credit_risk | P-Value: 0.1400333122128481\n",
      "personal_status_sex is correlated with credit_risk | P-Value: 0.02223800546926877\n",
      "other_debtors is correlated with credit_risk | P-Value: 0.036055954027247206\n",
      "present_residence is NOT correlated with credit_risk | P-Value: 0.8615521320413175\n",
      "property is correlated with credit_risk | P-Value: 2.8584415733250017e-05\n",
      "other_installment_plans is correlated with credit_risk | P-Value: 0.0016293178186473534\n",
      "housing is correlated with credit_risk | P-Value: 8.810311250241031e-05\n",
      "number_credits is NOT correlated with credit_risk | P-Value: 0.4451440800083001\n",
      "job is NOT correlated with credit_risk | P-Value: 0.5965815918843431\n",
      "people_liable is NOT correlated with credit_risk | P-Value: 1.0\n",
      "telephone is NOT correlated with credit_risk | P-Value: 0.2788761543035742\n",
      "foreign_worker is correlated with credit_risk | P-Value: 0.015830754902852885\n",
      "credit_risk is correlated with credit_risk | P-Value: 1.9413443913774672e-218\n"
     ]
    }
   ],
   "source": [
    "# Calling the function\n",
    "selectedPrdictor=FunctionChisq(inpData=df, \n",
    "              TargetVariable=target_variable,\n",
    "              CategoricalVariablesList= a)"
   ]
  },
  {
   "cell_type": "code",
   "execution_count": 61,
   "id": "f639d3f3-1eb5-4942-be3f-d43c9a320cc2",
   "metadata": {},
   "outputs": [
    {
     "data": {
      "text/plain": [
       "['status',\n",
       " 'credit_history',\n",
       " 'purpose',\n",
       " 'savings',\n",
       " 'employment_duration',\n",
       " 'personal_status_sex',\n",
       " 'other_debtors',\n",
       " 'property',\n",
       " 'other_installment_plans',\n",
       " 'housing',\n",
       " 'foreign_worker',\n",
       " 'credit_risk']"
      ]
     },
     "execution_count": 61,
     "metadata": {},
     "output_type": "execute_result"
    }
   ],
   "source": [
    "selectedPrdictor"
   ]
  },
  {
   "cell_type": "code",
   "execution_count": 62,
   "id": "fed8bf24-8a64-4dfa-aec9-049ce4ff961c",
   "metadata": {},
   "outputs": [
    {
     "data": {
      "text/plain": [
       "['duration', 'amount', 'age']"
      ]
     },
     "execution_count": 62,
     "metadata": {},
     "output_type": "execute_result"
    }
   ],
   "source": [
    "select_cont_column"
   ]
  },
  {
   "cell_type": "code",
   "execution_count": 63,
   "id": "788dfb97-c765-4d60-b24c-81db725492d1",
   "metadata": {},
   "outputs": [
    {
     "data": {
      "text/plain": [
       "(1000, 14)"
      ]
     },
     "execution_count": 63,
     "metadata": {},
     "output_type": "execute_result"
    }
   ],
   "source": [
    "# Selecting final columns\n",
    "joinedlist = selectedPrdictor + select_cont_column\n",
    "Data_for_model=df[joinedlist]\n",
    "Data_for_model=Data_for_model.loc[:, Data_for_model.columns!='credit_risk']\n",
    "Data_for_model.shape"
   ]
  },
  {
   "cell_type": "code",
   "execution_count": 64,
   "id": "166621f0-66e6-42e5-a130-5862376bb344",
   "metadata": {},
   "outputs": [],
   "source": [
    "# Saving this final data for reference during deployment\n",
    "Data_for_model.to_pickle('Data_for_model.pkl')"
   ]
  },
  {
   "cell_type": "code",
   "execution_count": 65,
   "id": "93e73025-6bcf-41af-a6a6-e9ad061d7eed",
   "metadata": {},
   "outputs": [
    {
     "data": {
      "text/plain": [
       "0      1\n",
       "1      1\n",
       "2      1\n",
       "3      1\n",
       "4      1\n",
       "      ..\n",
       "995    0\n",
       "996    0\n",
       "997    0\n",
       "998    0\n",
       "999    0\n",
       "Name: credit_risk, Length: 1000, dtype: category\n",
       "Categories (2, int64): [0, 1]"
      ]
     },
     "execution_count": 65,
     "metadata": {},
     "output_type": "execute_result"
    }
   ],
   "source": [
    "df['credit_risk']"
   ]
  },
  {
   "cell_type": "code",
   "execution_count": 66,
   "id": "ae1386bf-8546-4517-8657-a3fde5059c3f",
   "metadata": {},
   "outputs": [
    {
     "name": "stdout",
     "output_type": "stream",
     "text": [
      "9\n"
     ]
    },
    {
     "data": {
      "text/html": [
       "<div>\n",
       "<style scoped>\n",
       "    .dataframe tbody tr th:only-of-type {\n",
       "        vertical-align: middle;\n",
       "    }\n",
       "\n",
       "    .dataframe tbody tr th {\n",
       "        vertical-align: top;\n",
       "    }\n",
       "\n",
       "    .dataframe thead th {\n",
       "        text-align: right;\n",
       "    }\n",
       "</style>\n",
       "<table border=\"1\" class=\"dataframe\">\n",
       "  <thead>\n",
       "    <tr style=\"text-align: right;\">\n",
       "      <th></th>\n",
       "      <th>employment_duration</th>\n",
       "      <th>property</th>\n",
       "      <th>duration</th>\n",
       "      <th>amount</th>\n",
       "      <th>age</th>\n",
       "      <th>OHE1</th>\n",
       "      <th>OHE2</th>\n",
       "      <th>OHE3</th>\n",
       "      <th>OHE4</th>\n",
       "      <th>OHE5</th>\n",
       "      <th>...</th>\n",
       "      <th>OHE31</th>\n",
       "      <th>OHE32</th>\n",
       "      <th>OHE33</th>\n",
       "      <th>OHE34</th>\n",
       "      <th>OHE35</th>\n",
       "      <th>OHE36</th>\n",
       "      <th>OHE37</th>\n",
       "      <th>OHE38</th>\n",
       "      <th>OHE39</th>\n",
       "      <th>credit_risk</th>\n",
       "    </tr>\n",
       "  </thead>\n",
       "  <tbody>\n",
       "    <tr>\n",
       "      <th>0</th>\n",
       "      <td>2</td>\n",
       "      <td>2</td>\n",
       "      <td>18</td>\n",
       "      <td>1049</td>\n",
       "      <td>21</td>\n",
       "      <td>1</td>\n",
       "      <td>0</td>\n",
       "      <td>0</td>\n",
       "      <td>0</td>\n",
       "      <td>0</td>\n",
       "      <td>...</td>\n",
       "      <td>0</td>\n",
       "      <td>0</td>\n",
       "      <td>0</td>\n",
       "      <td>1</td>\n",
       "      <td>1</td>\n",
       "      <td>0</td>\n",
       "      <td>0</td>\n",
       "      <td>0</td>\n",
       "      <td>1</td>\n",
       "      <td>1</td>\n",
       "    </tr>\n",
       "    <tr>\n",
       "      <th>1</th>\n",
       "      <td>3</td>\n",
       "      <td>1</td>\n",
       "      <td>9</td>\n",
       "      <td>2799</td>\n",
       "      <td>36</td>\n",
       "      <td>1</td>\n",
       "      <td>0</td>\n",
       "      <td>0</td>\n",
       "      <td>0</td>\n",
       "      <td>0</td>\n",
       "      <td>...</td>\n",
       "      <td>0</td>\n",
       "      <td>0</td>\n",
       "      <td>0</td>\n",
       "      <td>1</td>\n",
       "      <td>1</td>\n",
       "      <td>0</td>\n",
       "      <td>0</td>\n",
       "      <td>0</td>\n",
       "      <td>1</td>\n",
       "      <td>1</td>\n",
       "    </tr>\n",
       "    <tr>\n",
       "      <th>2</th>\n",
       "      <td>4</td>\n",
       "      <td>1</td>\n",
       "      <td>12</td>\n",
       "      <td>841</td>\n",
       "      <td>23</td>\n",
       "      <td>0</td>\n",
       "      <td>1</td>\n",
       "      <td>0</td>\n",
       "      <td>0</td>\n",
       "      <td>0</td>\n",
       "      <td>...</td>\n",
       "      <td>0</td>\n",
       "      <td>0</td>\n",
       "      <td>0</td>\n",
       "      <td>1</td>\n",
       "      <td>1</td>\n",
       "      <td>0</td>\n",
       "      <td>0</td>\n",
       "      <td>0</td>\n",
       "      <td>1</td>\n",
       "      <td>1</td>\n",
       "    </tr>\n",
       "    <tr>\n",
       "      <th>3</th>\n",
       "      <td>3</td>\n",
       "      <td>1</td>\n",
       "      <td>12</td>\n",
       "      <td>2122</td>\n",
       "      <td>39</td>\n",
       "      <td>1</td>\n",
       "      <td>0</td>\n",
       "      <td>0</td>\n",
       "      <td>0</td>\n",
       "      <td>0</td>\n",
       "      <td>...</td>\n",
       "      <td>0</td>\n",
       "      <td>0</td>\n",
       "      <td>0</td>\n",
       "      <td>1</td>\n",
       "      <td>1</td>\n",
       "      <td>0</td>\n",
       "      <td>0</td>\n",
       "      <td>1</td>\n",
       "      <td>0</td>\n",
       "      <td>1</td>\n",
       "    </tr>\n",
       "    <tr>\n",
       "      <th>4</th>\n",
       "      <td>3</td>\n",
       "      <td>2</td>\n",
       "      <td>12</td>\n",
       "      <td>2171</td>\n",
       "      <td>38</td>\n",
       "      <td>1</td>\n",
       "      <td>0</td>\n",
       "      <td>0</td>\n",
       "      <td>0</td>\n",
       "      <td>0</td>\n",
       "      <td>...</td>\n",
       "      <td>0</td>\n",
       "      <td>1</td>\n",
       "      <td>0</td>\n",
       "      <td>0</td>\n",
       "      <td>0</td>\n",
       "      <td>1</td>\n",
       "      <td>0</td>\n",
       "      <td>1</td>\n",
       "      <td>0</td>\n",
       "      <td>1</td>\n",
       "    </tr>\n",
       "  </tbody>\n",
       "</table>\n",
       "<p>5 rows × 45 columns</p>\n",
       "</div>"
      ],
      "text/plain": [
       "  employment_duration property  duration  amount  age  OHE1  OHE2  OHE3  OHE4  \\\n",
       "0                   2        2        18    1049   21     1     0     0     0   \n",
       "1                   3        1         9    2799   36     1     0     0     0   \n",
       "2                   4        1        12     841   23     0     1     0     0   \n",
       "3                   3        1        12    2122   39     1     0     0     0   \n",
       "4                   3        2        12    2171   38     1     0     0     0   \n",
       "\n",
       "   OHE5  ...  OHE31  OHE32  OHE33  OHE34  OHE35  OHE36  OHE37  OHE38  OHE39  \\\n",
       "0     0  ...      0      0      0      1      1      0      0      0      1   \n",
       "1     0  ...      0      0      0      1      1      0      0      0      1   \n",
       "2     0  ...      0      0      0      1      1      0      0      0      1   \n",
       "3     0  ...      0      0      0      1      1      0      0      1      0   \n",
       "4     0  ...      0      1      0      0      0      1      0      1      0   \n",
       "\n",
       "   credit_risk  \n",
       "0            1  \n",
       "1            1  \n",
       "2            1  \n",
       "3            1  \n",
       "4            1  \n",
       "\n",
       "[5 rows x 45 columns]"
      ]
     },
     "execution_count": 66,
     "metadata": {},
     "output_type": "execute_result"
    }
   ],
   "source": [
    "# Treating all the nominal variables at once using dummy variables\n",
    "nominaldata1=['status','credit_history','purpose','savings','personal_status_sex','other_debtors','other_installment_plans','housing','foreign_worker']\n",
    "print(len(nominaldata1))\n",
    "#nominaldata=Data_for_model[nominaldata1]\n",
    "#Data_for_model_Numeric=pd.get_dummies(nominaldata)\n",
    "\n",
    "ohenc = OneHotEncoder(sparse=False, dtype=int).fit(Data_for_model[nominaldata1])\n",
    "encoded_data = ohenc.transform(Data_for_model[nominaldata1])\n",
    "encoded_df = pd.DataFrame(encoded_data, columns = [ f'OHE{i}' for i in range(1, encoded_data.shape[1] + 1)])\n",
    "Data_for_model_Numeric = Data_for_model.reset_index(drop=True).drop(nominaldata1, axis=1).merge(encoded_df, \n",
    "                                                                                        how='left', \n",
    "                                                                                        left_index=True, \n",
    "                                                                                        right_index=True)\n",
    "\n",
    "# Adding Target Variable to the data\n",
    "\n",
    "Data_for_model_Numeric['credit_risk']=df['credit_risk']\n",
    "Data_for_model_Numeric[['duration', 'amount', 'age','property','employment_duration']]=Data_for_model[['duration', 'amount', 'age','property','employment_duration']]\n",
    "Data_for_model_Numeric.head()"
   ]
  },
  {
   "cell_type": "code",
   "execution_count": 84,
   "id": "9b898cf0-2b37-497f-858a-628d1abb8fb1",
   "metadata": {},
   "outputs": [
    {
     "data": {
      "text/plain": [
       "Index(['employment_duration', 'property', 'duration', 'amount', 'age', 'OHE1',\n",
       "       'OHE2', 'OHE3', 'OHE4', 'OHE5', 'OHE6', 'OHE7', 'OHE8', 'OHE9', 'OHE10',\n",
       "       'OHE11', 'OHE12', 'OHE13', 'OHE14', 'OHE15', 'OHE16', 'OHE17', 'OHE18',\n",
       "       'OHE19', 'OHE20', 'OHE21', 'OHE22', 'OHE23', 'OHE24', 'OHE25', 'OHE26',\n",
       "       'OHE27', 'OHE28', 'OHE29', 'OHE30', 'OHE31', 'OHE32', 'OHE33', 'OHE34',\n",
       "       'OHE35', 'OHE36', 'OHE37', 'OHE38', 'OHE39', 'credit_risk'],\n",
       "      dtype='object')"
      ]
     },
     "execution_count": 84,
     "metadata": {},
     "output_type": "execute_result"
    }
   ],
   "source": [
    "Data_for_model_Numeric.columns"
   ]
  },
  {
   "cell_type": "code",
   "execution_count": 85,
   "id": "0135e46f-a5f7-4cdc-a765-a37ee0133067",
   "metadata": {},
   "outputs": [
    {
     "data": {
      "text/plain": [
       "Index(['employment_duration', 'property', 'duration', 'amount', 'age', 'OHE1',\n",
       "       'OHE2', 'OHE3', 'OHE4', 'OHE5', 'OHE6', 'OHE7', 'OHE8', 'OHE9', 'OHE10',\n",
       "       'OHE11', 'OHE12', 'OHE13', 'OHE14', 'OHE15', 'OHE16', 'OHE17', 'OHE18',\n",
       "       'OHE19', 'OHE20', 'OHE21', 'OHE22', 'OHE23', 'OHE24', 'OHE25', 'OHE26',\n",
       "       'OHE27', 'OHE28', 'OHE29', 'OHE30', 'OHE31', 'OHE32', 'OHE33', 'OHE34',\n",
       "       'OHE35', 'OHE36', 'OHE37', 'OHE38', 'OHE39'],\n",
       "      dtype='object')"
      ]
     },
     "execution_count": 85,
     "metadata": {},
     "output_type": "execute_result"
    }
   ],
   "source": [
    "# Printing all the column names \n",
    "Data_for_model_Numeric1=Data_for_model_Numeric.loc[:, Data_for_model_Numeric.columns!='credit_risk']\n",
    "Data_for_model_Numeric1.columns"
   ]
  },
  {
   "cell_type": "code",
   "execution_count": 86,
   "id": "c471dbe6-ad7f-4b65-814b-f592e12507b8",
   "metadata": {},
   "outputs": [],
   "source": [
    "TargetVariable=target_variable\n",
    "TargetVariable\n",
    "Predictors=Data_for_model_Numeric1.columns\n",
    "Predictors\n",
    "X=Data_for_model_Numeric[Predictors].values\n",
    "\n",
    "y=Data_for_model_Numeric[TargetVariable].values\n",
    "\n",
    "\n",
    "# Split the data into training and testing set\n",
    "from sklearn.model_selection import train_test_split\n",
    "X_train, X_test, y_train, y_test = train_test_split(X, y, test_size=0.3, random_state=428)"
   ]
  },
  {
   "cell_type": "code",
   "execution_count": 70,
   "id": "42bc9cad-9a9f-4bb4-aae3-2615c1942175",
   "metadata": {},
   "outputs": [
    {
     "data": {
      "text/plain": [
       "array([   2,    2,   18, 1049,   21,    1,    0,    0,    0,    0,    0,\n",
       "          0,    0,    1,    0,    0,    1,    0,    0,    0,    0,    0,\n",
       "          0,    0,    1,    0,    0,    0,    0,    0,    1,    0,    0,\n",
       "          1,    0,    0,    0,    0,    1,    1,    0,    0,    0,    1],\n",
       "      dtype=int64)"
      ]
     },
     "execution_count": 70,
     "metadata": {},
     "output_type": "execute_result"
    }
   ],
   "source": [
    "X[0]"
   ]
  },
  {
   "cell_type": "code",
   "execution_count": 87,
   "id": "2b33bc03-5c5d-41f2-be80-c960915803d9",
   "metadata": {},
   "outputs": [],
   "source": [
    "### Sandardization of data ###\n",
    "from sklearn.preprocessing import StandardScaler, MinMaxScaler\n",
    "\n",
    "PredictorScaler=MinMaxScaler()\n",
    "\n",
    "PredictorScalerFit=PredictorScaler.fit(X)\n",
    "\n",
    "X=PredictorScalerFit.transform(X)\n",
    "\n",
    "# Split the data into training and testing set\n",
    "from sklearn.model_selection import train_test_split\n",
    "X_train, X_test, y_train, y_test = train_test_split(X, y, test_size=0.3, random_state=42)"
   ]
  },
  {
   "cell_type": "code",
   "execution_count": 88,
   "id": "c1ae36b4-5519-44a0-b0bb-fc514dedc876",
   "metadata": {},
   "outputs": [
    {
     "name": "stdout",
     "output_type": "stream",
     "text": [
      "(700, 44)\n",
      "(700,)\n",
      "(300, 44)\n",
      "(300,)\n"
     ]
    }
   ],
   "source": [
    "# Sanity check for the sampled data\n",
    "print(X_train.shape)\n",
    "print(y_train.shape)\n",
    "print(X_test.shape)\n",
    "print(y_test.shape)"
   ]
  },
  {
   "cell_type": "code",
   "execution_count": 89,
   "id": "2d8bc903-700a-4647-828f-ccf3e695a7ed",
   "metadata": {},
   "outputs": [],
   "source": [
    "# Number of trees in random forest\n",
    "n_estimators = [int(x) for x in np.linspace(start = 10, stop = 50, num = 5)]\n",
    "# Number of features to consider at every split\n",
    "max_features = ['auto', 'sqrt']\n",
    "# Maximum number of levels in tree\n",
    "max_depth = [2,4]\n",
    "# Minimum number of samples required to split a node\n",
    "min_samples_split = [2, 5]\n",
    "# Minimum number of samples required at each leaf node\n",
    "min_samples_leaf = [1, 2]\n",
    "# Method of selecting samples for training each tree\n",
    "bootstrap = [True, False]"
   ]
  },
  {
   "cell_type": "code",
   "execution_count": 90,
   "id": "1b1a1e9e-79fb-4ac7-a619-c51ea5e093cd",
   "metadata": {},
   "outputs": [
    {
     "name": "stdout",
     "output_type": "stream",
     "text": [
      "{'n_estimators': [10, 20, 30, 40, 50], 'max_features': ['auto', 'sqrt'], 'max_depth': [2, 4], 'min_samples_split': [2, 5], 'min_samples_leaf': [1, 2], 'bootstrap': [True, False]}\n"
     ]
    }
   ],
   "source": [
    "# Create the param grid\n",
    "param_grid = {'n_estimators': n_estimators,\n",
    "               'max_features': max_features,\n",
    "               'max_depth': max_depth,\n",
    "               'min_samples_split': min_samples_split,\n",
    "               'min_samples_leaf': min_samples_leaf,\n",
    "               'bootstrap': bootstrap}\n",
    "print(param_grid)"
   ]
  },
  {
   "cell_type": "code",
   "execution_count": 91,
   "id": "c6e0e293-1cb8-4d47-9b5c-e249a1f032c3",
   "metadata": {},
   "outputs": [],
   "source": [
    "rf_Model = RandomForestClassifier()\n",
    "from sklearn.model_selection import GridSearchCV\n",
    "rf_Grid = GridSearchCV(estimator = rf_Model, param_grid = param_grid, cv = 3, verbose=2, n_jobs = 4,refit = True)\n"
   ]
  },
  {
   "cell_type": "code",
   "execution_count": 92,
   "id": "2d47f46f-cdf6-4588-a083-f5a100f52201",
   "metadata": {},
   "outputs": [
    {
     "name": "stdout",
     "output_type": "stream",
     "text": [
      "Fitting 3 folds for each of 160 candidates, totalling 480 fits\n"
     ]
    },
    {
     "data": {
      "text/plain": [
       "{'bootstrap': False,\n",
       " 'max_depth': 4,\n",
       " 'max_features': 'auto',\n",
       " 'min_samples_leaf': 2,\n",
       " 'min_samples_split': 5,\n",
       " 'n_estimators': 10}"
      ]
     },
     "execution_count": 92,
     "metadata": {},
     "output_type": "execute_result"
    }
   ],
   "source": [
    "rf_Grid.fit(X_train, y_train)\n",
    "prediction_train=rf_Grid.predict(X_train)\n",
    "prediction_test=rf_Grid.predict(X_test)\n",
    "rf_Grid.best_params_"
   ]
  },
  {
   "cell_type": "code",
   "execution_count": 93,
   "id": "ee3b67c1-35ba-4d01-8e2d-3bfa272665a2",
   "metadata": {},
   "outputs": [
    {
     "name": "stdout",
     "output_type": "stream",
     "text": [
      "Train Accuracy - : 0.757\n",
      "[[ 40 168]\n",
      " [  2 490]]\n",
      "Test Accuracy - : 0.707\n",
      "[[  9  83]\n",
      " [  5 203]]\n"
     ]
    }
   ],
   "source": [
    "print (f'Train Accuracy - : {rf_Grid.score(X_train,y_train):.3f}')\n",
    "print(metrics.confusion_matrix(y_train,prediction_train))\n",
    "print (f'Test Accuracy - : {rf_Grid.score(X_test,y_test):.3f}')\n",
    "print(metrics.confusion_matrix(y_test,prediction_test))"
   ]
  },
  {
   "cell_type": "code",
   "execution_count": 94,
   "id": "740ee83b-1903-4a0b-8845-3ca3abc928a3",
   "metadata": {},
   "outputs": [
    {
     "data": {
      "text/html": [
       "<div>\n",
       "<style scoped>\n",
       "    .dataframe tbody tr th:only-of-type {\n",
       "        vertical-align: middle;\n",
       "    }\n",
       "\n",
       "    .dataframe tbody tr th {\n",
       "        vertical-align: top;\n",
       "    }\n",
       "\n",
       "    .dataframe thead th {\n",
       "        text-align: right;\n",
       "    }\n",
       "</style>\n",
       "<table border=\"1\" class=\"dataframe\">\n",
       "  <thead>\n",
       "    <tr style=\"text-align: right;\">\n",
       "      <th></th>\n",
       "      <th>threshold</th>\n",
       "      <th>f1_score</th>\n",
       "    </tr>\n",
       "  </thead>\n",
       "  <tbody>\n",
       "    <tr>\n",
       "      <th>0</th>\n",
       "      <td>0.683693</td>\n",
       "      <td>0.821862</td>\n",
       "    </tr>\n",
       "    <tr>\n",
       "      <th>1</th>\n",
       "      <td>0.683326</td>\n",
       "      <td>0.821862</td>\n",
       "    </tr>\n",
       "    <tr>\n",
       "      <th>2</th>\n",
       "      <td>0.594104</td>\n",
       "      <td>0.821862</td>\n",
       "    </tr>\n",
       "    <tr>\n",
       "      <th>3</th>\n",
       "      <td>0.595423</td>\n",
       "      <td>0.821862</td>\n",
       "    </tr>\n",
       "    <tr>\n",
       "      <th>4</th>\n",
       "      <td>0.595817</td>\n",
       "      <td>0.821862</td>\n",
       "    </tr>\n",
       "  </tbody>\n",
       "</table>\n",
       "</div>"
      ],
      "text/plain": [
       "   threshold  f1_score\n",
       "0   0.683693  0.821862\n",
       "1   0.683326  0.821862\n",
       "2   0.594104  0.821862\n",
       "3   0.595423  0.821862\n",
       "4   0.595817  0.821862"
      ]
     },
     "execution_count": 94,
     "metadata": {},
     "output_type": "execute_result"
    }
   ],
   "source": [
    "def predict_diff_thresh(pred_probs, thresh):\n",
    "    return np.where(pred_probs > thresh, 1, 0)\n",
    "\n",
    "## Code for Getting Different threshold\n",
    "\n",
    "fpr, tpr, thresholds = roc_curve(y_test, rf_Grid.predict_proba(X_test)[:, 1])\n",
    "# print(thresholds)\n",
    "\n",
    "accuracy_ls = []\n",
    "for thres in thresholds:\n",
    "    data_dict = dict()\n",
    "    data_dict['threshold'] = thres\n",
    "    y_pred = np.where(prediction_test > thres,1,0)\n",
    "    data_dict['f1_score'] = f1_score(y_test, y_pred)\n",
    "    accuracy_ls.append(data_dict)\n",
    "    \n",
    "accuracy_ls = pd.DataFrame(accuracy_ls)\n",
    "accuracy_ls = accuracy_ls.sort_values('f1_score', ascending=False).reset_index(drop=True)\n",
    "accuracy_ls.head()"
   ]
  },
  {
   "cell_type": "code",
   "execution_count": 95,
   "id": "82e759c9-62f4-438f-97f2-dca6e2bd78e7",
   "metadata": {},
   "outputs": [],
   "source": [
    "prediction_train_thres=rf_Grid.predict_proba(X_train)\n",
    "prediction_test_thres=rf_Grid.predict_proba(X_test)"
   ]
  },
  {
   "cell_type": "code",
   "execution_count": 96,
   "id": "c8cab710-aef9-475e-8f36-bafbd5e01ae7",
   "metadata": {},
   "outputs": [],
   "source": [
    "prediction_train_thres1=predict_diff_thresh(prediction_train_thres[:, 1],accuracy_ls['threshold'][0])\n",
    "prediction_test_thres1=predict_diff_thresh(prediction_test_thres[:, 1],accuracy_ls['threshold'][0])"
   ]
  },
  {
   "cell_type": "code",
   "execution_count": 97,
   "id": "6aeaeb27-0d68-44f0-b788-f42d895468df",
   "metadata": {},
   "outputs": [
    {
     "name": "stdout",
     "output_type": "stream",
     "text": [
      "Train Accuracy - : 0.757\n",
      "[[163  45]\n",
      " [127 365]]\n",
      "              precision    recall  f1-score   support\n",
      "\n",
      "           0       0.56      0.78      0.65       208\n",
      "           1       0.89      0.74      0.81       492\n",
      "\n",
      "    accuracy                           0.75       700\n",
      "   macro avg       0.73      0.76      0.73       700\n",
      "weighted avg       0.79      0.75      0.76       700\n",
      "\n",
      "Test Accuracy - : 0.707\n",
      "[[ 67  25]\n",
      " [ 67 141]]\n",
      "              precision    recall  f1-score   support\n",
      "\n",
      "           0       0.50      0.73      0.59        92\n",
      "           1       0.85      0.68      0.75       208\n",
      "\n",
      "    accuracy                           0.69       300\n",
      "   macro avg       0.67      0.70      0.67       300\n",
      "weighted avg       0.74      0.69      0.70       300\n",
      "\n"
     ]
    }
   ],
   "source": [
    "print (f'Train Accuracy - : {rf_Grid.score(X_train,y_train):.3f}')\n",
    "print(metrics.confusion_matrix(y_train,prediction_train_thres1))\n",
    "print(metrics.classification_report(y_train, prediction_train_thres1))\n",
    "print (f'Test Accuracy - : {rf_Grid.score(X_test,y_test):.3f}')\n",
    "print(metrics.confusion_matrix(y_test,prediction_test_thres1))\n",
    "print(metrics.classification_report(y_test, prediction_test_thres1))"
   ]
  },
  {
   "cell_type": "code",
   "execution_count": 82,
   "id": "f9ac07f9-144a-4601-9026-426807e9591b",
   "metadata": {},
   "outputs": [
    {
     "name": "stdout",
     "output_type": "stream",
     "text": [
      "-----------below train confusion matrix -------\n",
      "              precision    recall  f1-score   support\n",
      "\n",
      "           0       0.97      0.36      0.52       208\n",
      "           1       0.79      1.00      0.88       492\n",
      "\n",
      "    accuracy                           0.81       700\n",
      "   macro avg       0.88      0.68      0.70       700\n",
      "weighted avg       0.84      0.81      0.77       700\n",
      "\n",
      "[[ 74 134]\n",
      " [  2 490]]\n",
      "-----------below test confusion matrix -------\n",
      "              precision    recall  f1-score   support\n",
      "\n",
      "           0       0.64      0.15      0.25        92\n",
      "           1       0.72      0.96      0.82       208\n",
      "\n",
      "    accuracy                           0.71       300\n",
      "   macro avg       0.68      0.56      0.53       300\n",
      "weighted avg       0.69      0.71      0.65       300\n",
      "\n",
      "[[ 14  78]\n",
      " [  8 200]]\n",
      "Accuracy of the model on training Sample Data: 0.77\n",
      "Accuracy of the model on Testing Sample Data: 0.65\n",
      "\n",
      "Accuracy values for 10-fold Cross Validation:\n",
      " [0.62083333 0.66513016 0.64715447 0.69899666 0.60878809 0.64375\n",
      " 0.67235772 0.69899666 0.5875     0.6835711 ]\n",
      "\n",
      "Final Average Accuracy of the model: 0.65\n",
      "-----------below train confusion matrix -------\n",
      "              precision    recall  f1-score   support\n",
      "\n",
      "           0       0.94      0.36      0.52       208\n",
      "           1       0.78      0.99      0.88       492\n",
      "\n",
      "    accuracy                           0.80       700\n",
      "   macro avg       0.86      0.67      0.70       700\n",
      "weighted avg       0.83      0.80      0.77       700\n",
      "\n",
      "[[ 74 134]\n",
      " [  5 487]]\n",
      "-----------below test confusion matrix -------\n",
      "              precision    recall  f1-score   support\n",
      "\n",
      "           0       0.67      0.15      0.25        92\n",
      "           1       0.72      0.97      0.83       208\n",
      "\n",
      "    accuracy                           0.72       300\n",
      "   macro avg       0.69      0.56      0.54       300\n",
      "weighted avg       0.70      0.72      0.65       300\n",
      "\n",
      "[[ 14  78]\n",
      " [  7 201]]\n",
      "Accuracy of the model on training Sample Data: 0.77\n",
      "Accuracy of the model on Testing Sample Data: 0.65\n",
      "\n",
      "Accuracy values for 10-fold Cross Validation:\n",
      " [0.62083333 0.66513016 0.64715447 0.69899666 0.60878809 0.62675585\n",
      " 0.67235772 0.6675     0.59454874 0.6835711 ]\n",
      "\n",
      "Final Average Accuracy of the model: 0.65\n",
      "-----------below train confusion matrix -------\n",
      "              precision    recall  f1-score   support\n",
      "\n",
      "           0       0.94      0.32      0.47       208\n",
      "           1       0.77      0.99      0.87       492\n",
      "\n",
      "    accuracy                           0.79       700\n",
      "   macro avg       0.86      0.65      0.67       700\n",
      "weighted avg       0.82      0.79      0.75       700\n",
      "\n",
      "[[ 66 142]\n",
      " [  4 488]]\n",
      "-----------below test confusion matrix -------\n",
      "              precision    recall  f1-score   support\n",
      "\n",
      "           0       0.67      0.15      0.25        92\n",
      "           1       0.72      0.97      0.83       208\n",
      "\n",
      "    accuracy                           0.72       300\n",
      "   macro avg       0.69      0.56      0.54       300\n",
      "weighted avg       0.70      0.72      0.65       300\n",
      "\n",
      "[[ 14  78]\n",
      " [  7 201]]\n",
      "Accuracy of the model on training Sample Data: 0.75\n",
      "Accuracy of the model on Testing Sample Data: 0.65\n",
      "\n",
      "Accuracy values for 10-fold Cross Validation:\n",
      " [0.62083333 0.64032499 0.64715447 0.69899666 0.63486889 0.60909682\n",
      " 0.66513016 0.6835711  0.59454874 0.67594937]\n",
      "\n",
      "Final Average Accuracy of the model: 0.65\n",
      "-----------below train confusion matrix -------\n",
      "              precision    recall  f1-score   support\n",
      "\n",
      "           0       0.93      0.30      0.45       208\n",
      "           1       0.77      0.99      0.87       492\n",
      "\n",
      "    accuracy                           0.78       700\n",
      "   macro avg       0.85      0.64      0.66       700\n",
      "weighted avg       0.82      0.78      0.74       700\n",
      "\n",
      "[[ 62 146]\n",
      " [  5 487]]\n",
      "-----------below test confusion matrix -------\n",
      "              precision    recall  f1-score   support\n",
      "\n",
      "           0       0.65      0.14      0.23        92\n",
      "           1       0.72      0.97      0.82       208\n",
      "\n",
      "    accuracy                           0.71       300\n",
      "   macro avg       0.68      0.55      0.53       300\n",
      "weighted avg       0.70      0.71      0.64       300\n",
      "\n",
      "[[ 13  79]\n",
      " [  7 201]]\n",
      "Accuracy of the model on training Sample Data: 0.74\n",
      "Accuracy of the model on Testing Sample Data: 0.64\n",
      "\n",
      "Accuracy values for 10-fold Cross Validation:\n",
      " [0.62083333 0.64032499 0.63352827 0.68239116 0.62839827 0.64375\n",
      " 0.66513016 0.65795971 0.59454874 0.66013192]\n",
      "\n",
      "Final Average Accuracy of the model: 0.64\n",
      "-----------below train confusion matrix -------\n",
      "              precision    recall  f1-score   support\n",
      "\n",
      "           0       0.93      0.27      0.42       208\n",
      "           1       0.76      0.99      0.86       492\n",
      "\n",
      "    accuracy                           0.78       700\n",
      "   macro avg       0.85      0.63      0.64       700\n",
      "weighted avg       0.81      0.78      0.73       700\n",
      "\n",
      "[[ 57 151]\n",
      " [  4 488]]\n",
      "-----------below test confusion matrix -------\n",
      "              precision    recall  f1-score   support\n",
      "\n",
      "           0       0.71      0.13      0.22        92\n",
      "           1       0.72      0.98      0.83       208\n",
      "\n",
      "    accuracy                           0.72       300\n",
      "   macro avg       0.71      0.55      0.52       300\n",
      "weighted avg       0.71      0.72      0.64       300\n",
      "\n",
      "[[ 12  80]\n",
      " [  5 203]]\n",
      "Accuracy of the model on training Sample Data: 0.73\n",
      "Accuracy of the model on Testing Sample Data: 0.64\n",
      "\n",
      "Accuracy values for 10-fold Cross Validation:\n",
      " [0.62083333 0.64032499 0.67235772 0.68239116 0.61480675 0.60909682\n",
      " 0.67235772 0.67491639 0.59454874 0.67491639]\n",
      "\n",
      "Final Average Accuracy of the model: 0.65\n",
      "-----------below train confusion matrix -------\n",
      "              precision    recall  f1-score   support\n",
      "\n",
      "           0       0.90      0.21      0.34       208\n",
      "           1       0.75      0.99      0.85       492\n",
      "\n",
      "    accuracy                           0.76       700\n",
      "   macro avg       0.82      0.60      0.60       700\n",
      "weighted avg       0.79      0.76      0.70       700\n",
      "\n",
      "[[ 44 164]\n",
      " [  5 487]]\n",
      "-----------below test confusion matrix -------\n",
      "              precision    recall  f1-score   support\n",
      "\n",
      "           0       0.64      0.10      0.17        92\n",
      "           1       0.71      0.98      0.82       208\n",
      "\n",
      "    accuracy                           0.71       300\n",
      "   macro avg       0.68      0.54      0.50       300\n",
      "weighted avg       0.69      0.71      0.62       300\n",
      "\n",
      "[[  9  83]\n",
      " [  5 203]]\n",
      "Accuracy of the model on training Sample Data: 0.7\n",
      "Accuracy of the model on Testing Sample Data: 0.62\n",
      "\n",
      "Accuracy values for 10-fold Cross Validation:\n",
      " [0.62083333 0.60878809 0.63486889 0.66513016 0.59375    0.63352827\n",
      " 0.66094968 0.67491639 0.58623656 0.62195122]\n",
      "\n",
      "Final Average Accuracy of the model: 0.63\n",
      "-----------below train confusion matrix -------\n",
      "              precision    recall  f1-score   support\n",
      "\n",
      "           0       0.89      0.12      0.20       208\n",
      "           1       0.73      0.99      0.84       492\n",
      "\n",
      "    accuracy                           0.73       700\n",
      "   macro avg       0.81      0.55      0.52       700\n",
      "weighted avg       0.77      0.73      0.65       700\n",
      "\n",
      "[[ 24 184]\n",
      " [  3 489]]\n",
      "-----------below test confusion matrix -------\n",
      "              precision    recall  f1-score   support\n",
      "\n",
      "           0       0.50      0.04      0.08        92\n",
      "           1       0.70      0.98      0.82       208\n",
      "\n",
      "    accuracy                           0.69       300\n",
      "   macro avg       0.60      0.51      0.45       300\n",
      "weighted avg       0.64      0.69      0.59       300\n",
      "\n",
      "[[  4  88]\n",
      " [  4 204]]\n",
      "Accuracy of the model on training Sample Data: 0.65\n",
      "Accuracy of the model on Testing Sample Data: 0.59\n",
      "\n",
      "Accuracy values for 10-fold Cross Validation:\n",
      " [0.5992365  0.61480675 0.61480675 0.66513016 0.59375    0.60277056\n",
      " 0.62083333 0.61480675 0.60860215 0.64032499]\n",
      "\n",
      "Final Average Accuracy of the model: 0.62\n",
      "-----------below train confusion matrix -------\n",
      "              precision    recall  f1-score   support\n",
      "\n",
      "           0       0.88      0.07      0.12       208\n",
      "           1       0.72      1.00      0.83       492\n",
      "\n",
      "    accuracy                           0.72       700\n",
      "   macro avg       0.80      0.53      0.48       700\n",
      "weighted avg       0.76      0.72      0.62       700\n",
      "\n",
      "[[ 14 194]\n",
      " [  2 490]]\n",
      "-----------below test confusion matrix -------\n",
      "              precision    recall  f1-score   support\n",
      "\n",
      "           0       0.50      0.04      0.08        92\n",
      "           1       0.70      0.98      0.82       208\n",
      "\n",
      "    accuracy                           0.69       300\n",
      "   macro avg       0.60      0.51      0.45       300\n",
      "weighted avg       0.64      0.69      0.59       300\n",
      "\n",
      "[[  4  88]\n",
      " [  4 204]]\n",
      "Accuracy of the model on training Sample Data: 0.62\n",
      "Accuracy of the model on Testing Sample Data: 0.59\n",
      "\n",
      "Accuracy values for 10-fold Cross Validation:\n",
      " [0.5992365  0.61480675 0.62083333 0.63486889 0.57159763 0.62195122\n",
      " 0.62083333 0.61480675 0.599763   0.60277056]\n",
      "\n",
      "Final Average Accuracy of the model: 0.61\n"
     ]
    },
    {
     "data": {
      "image/png": "[encoded data removed]",
      "text/plain": [
       "<Figure size 432x288 with 1 Axes>"
      ]
     },
     "metadata": {
      "needs_background": "light"
     },
     "output_type": "display_data"
    }
   ],
   "source": [
    "\n",
    "# creating a list of different leaf sizes\n",
    "sample_leaf_options = [1,2,3,4,5,10,20,25]\n",
    "\n",
    "# for loop to iterate for each leaf size\n",
    "for leaf_size in sample_leaf_options :\n",
    "    clf = RandomForestClassifier(max_depth=5,n_estimators = 100, n_jobs = -1,random_state =50, min_samples_leaf = leaf_size)\n",
    "    \n",
    "\n",
    "    RF=clf.fit(X_train,y_train)\n",
    "    prediction_train=RF.predict(X_train)\n",
    "\n",
    "    RF=clf.fit(X_train,y_train)\n",
    "    prediction_test=RF.predict(X_test)\n",
    "\n",
    "    # Measuring accuracy on Testing Data\n",
    "    \n",
    "    print(\"-----------below train confusion matrix -------\")\n",
    "    print(metrics.classification_report(y_train, prediction_train))\n",
    "    print(metrics.confusion_matrix(y_train, prediction_train))\n",
    "    print(\"-----------below test confusion matrix -------\")\n",
    "    print(metrics.classification_report(y_test, prediction_test))\n",
    "    print(metrics.confusion_matrix(y_test, prediction_test))\n",
    "\n",
    "    F1_Score_train=metrics.f1_score(y_train, prediction_train, average='weighted')\n",
    "    F1_Score_test=metrics.f1_score(y_test, prediction_test, average='weighted')\n",
    "    print('Accuracy of the model on training Sample Data:', round(F1_Score_train,2))\n",
    "    print('Accuracy of the model on Testing Sample Data:', round(F1_Score_test,2))\n",
    "\n",
    "    from sklearn.model_selection import cross_val_score\n",
    "\n",
    "    Accuracy_Values=cross_val_score(RF, X , y, cv=10, scoring='f1_weighted')\n",
    "    print('\\nAccuracy values for 10-fold Cross Validation:\\n',Accuracy_Values)\n",
    "    print('\\nFinal Average Accuracy of the model:', round(Accuracy_Values.mean(),2))\n",
    "\n",
    "\n",
    "    %matplotlib inline\n",
    "    feature_importances = pd.Series(RF.feature_importances_, index=Predictors)\n",
    "    feature_importances.nlargest(10).plot(kind='barh')"
   ]
  },
  {
   "cell_type": "code",
   "execution_count": 83,
   "id": "167edda8-6efe-4e88-b21a-e1cadfe11e60",
   "metadata": {},
   "outputs": [
    {
     "ename": "NameError",
     "evalue": "name 'prediction' is not defined",
     "output_type": "error",
     "traceback": [
      "\u001b[1;31m---------------------------------------------------------------------------\u001b[0m",
      "\u001b[1;31mNameError\u001b[0m                                 Traceback (most recent call last)",
      "\u001b[1;32m~\\AppData\\Local\\Temp/ipykernel_202716/2224523220.py\u001b[0m in \u001b[0;36m<module>\u001b[1;34m\u001b[0m\n\u001b[0;32m     11\u001b[0m \u001b[1;31m# Measuring accuracy on Testing Data\u001b[0m\u001b[1;33m\u001b[0m\u001b[1;33m\u001b[0m\u001b[1;33m\u001b[0m\u001b[0m\n\u001b[0;32m     12\u001b[0m \u001b[1;32mfrom\u001b[0m \u001b[0msklearn\u001b[0m \u001b[1;32mimport\u001b[0m \u001b[0mmetrics\u001b[0m\u001b[1;33m\u001b[0m\u001b[1;33m\u001b[0m\u001b[0m\n\u001b[1;32m---> 13\u001b[1;33m \u001b[0mprint\u001b[0m\u001b[1;33m(\u001b[0m\u001b[0mmetrics\u001b[0m\u001b[1;33m.\u001b[0m\u001b[0mclassification_report\u001b[0m\u001b[1;33m(\u001b[0m\u001b[0my_test\u001b[0m\u001b[1;33m,\u001b[0m \u001b[0mprediction\u001b[0m\u001b[1;33m)\u001b[0m\u001b[1;33m)\u001b[0m\u001b[1;33m\u001b[0m\u001b[1;33m\u001b[0m\u001b[0m\n\u001b[0m\u001b[0;32m     14\u001b[0m \u001b[0mprint\u001b[0m\u001b[1;33m(\u001b[0m\u001b[0mmetrics\u001b[0m\u001b[1;33m.\u001b[0m\u001b[0mconfusion_matrix\u001b[0m\u001b[1;33m(\u001b[0m\u001b[0my_test\u001b[0m\u001b[1;33m,\u001b[0m \u001b[0mprediction\u001b[0m\u001b[1;33m)\u001b[0m\u001b[1;33m)\u001b[0m\u001b[1;33m\u001b[0m\u001b[1;33m\u001b[0m\u001b[0m\n\u001b[0;32m     15\u001b[0m \u001b[1;33m\u001b[0m\u001b[0m\n",
      "\u001b[1;31mNameError\u001b[0m: name 'prediction' is not defined"
     ]
    }
   ],
   "source": [
    "# Random Forest (Bagging of multiple Decision Trees)\n",
    "from sklearn.ensemble import RandomForestClassifier\n",
    "clf = RandomForestClassifier(max_depth=5, n_estimators=70,n_jobs = -1,criterion='gini')\n",
    "\n",
    "RF=clf.fit(X_train,y_train)\n",
    "prediction_train=RF.predict(X_train)\n",
    "\n",
    "RF=clf.fit(X_train,y_train)\n",
    "prediction_test=RF.predict(X_test)\n",
    "\n",
    "# Measuring accuracy on Testing Data\n",
    "from sklearn import metrics\n",
    "print(metrics.classification_report(y_test, prediction))\n",
    "print(metrics.confusion_matrix(y_test, prediction))\n",
    "\n",
    "F1_Score_train=metrics.f1_score(y_train, prediction_train, average='weighted')\n",
    "F1_Score_test=metrics.f1_score(y_test, prediction_test, average='weighted')\n",
    "print('Accuracy of the model on training Sample Data:', round(F1_Score_train,2))\n",
    "print('Accuracy of the model on Testing Sample Data:', round(F1_Score_test,2))\n",
    "\n",
    "from sklearn.model_selection import cross_val_score\n",
    "\n",
    "Accuracy_Values=cross_val_score(RF, X , y, cv=10, scoring='f1_weighted')\n",
    "print('\\nAccuracy values for 10-fold Cross Validation:\\n',Accuracy_Values)\n",
    "print('\\nFinal Average Accuracy of the model:', round(Accuracy_Values.mean(),2))\n",
    "\n",
    "\n",
    "%matplotlib inline\n",
    "feature_importances = pd.Series(RF.feature_importances_, index=Predictors)\n",
    "feature_importances.nlargest(10).plot(kind='barh')"
   ]
  },
  {
   "cell_type": "code",
   "execution_count": null,
   "id": "7f2792cc-7a6f-46d1-8087-9dc40b23c32b",
   "metadata": {},
   "outputs": [],
   "source": [
    "#{'criterion': 'gini', 'max_depth': 8, 'n_estimators': 50} 0.6274899129064917"
   ]
  },
  {
   "cell_type": "markdown",
   "id": "323f7965-78c1-4b40-a05f-f110f95fcc47",
   "metadata": {},
   "source": [
    "# Decision Trees\n"
   ]
  },
  {
   "cell_type": "code",
   "execution_count": null,
   "id": "8f1fe9c9-5c77-472e-86df-179511b3dd88",
   "metadata": {},
   "outputs": [],
   "source": [
    "\n",
    "from sklearn import tree\n",
    "clf = tree.DecisionTreeClassifier(max_depth=4,criterion='gini')\n",
    "\n",
    "print(clf)\n",
    "\n",
    "\n",
    "DTree=clf.fit(X_train,y_train)\n",
    "prediction=DTree.predict(X_test)\n",
    "\n",
    "from sklearn import metrics\n",
    "print(metrics.classification_report(y_test, prediction))\n",
    "print(metrics.confusion_matrix(y_test, prediction))\n",
    "\n",
    "\n",
    "F1_Score=metrics.f1_score(y_test, prediction, average='weighted')\n",
    "print('Accuracy of the model on Testing Sample Data:', round(F1_Score,2))\n",
    "\n",
    "\n",
    "%matplotlib inline\n",
    "feature_importances = pd.Series(DTree.feature_importances_, index=Predictors)\n",
    "feature_importances.nlargest(10).plot(kind='barh')\n",
    "\n",
    "\n",
    "from sklearn.model_selection import cross_val_score\n",
    "\n",
    "\n",
    "Accuracy_Values=cross_val_score(DTree, X , y, cv=10, scoring='f1_weighted')\n",
    "print('\\nAccuracy values for 10-fold Cross Validation:\\n',Accuracy_Values)\n",
    "print('\\nFinal Average Accuracy of the model:', round(Accuracy_Values.mean(),2))\n"
   ]
  },
  {
   "cell_type": "markdown",
   "id": "1ff91b9b-8139-4c6e-bc7a-77463bfb2375",
   "metadata": {},
   "source": [
    "# K-Nearest Neighbor(KNN)"
   ]
  },
  {
   "cell_type": "code",
   "execution_count": null,
   "id": "269ab6ba-a4f0-40df-97da-421582ce906d",
   "metadata": {},
   "outputs": [],
   "source": [
    "\n",
    "from sklearn.neighbors import KNeighborsClassifier\n",
    "clf = KNeighborsClassifier(n_neighbors=3)\n",
    "\n",
    "print(clf)\n",
    "\n",
    "KNN=clf.fit(X_train,y_train)\n",
    "prediction=KNN.predict(X_test)\n",
    "\n",
    "from sklearn import metrics\n",
    "print(metrics.classification_report(y_test, prediction))\n",
    "print(metrics.confusion_matrix(y_test, prediction))\n",
    "\n",
    "F1_Score=metrics.f1_score(y_test, prediction, average='weighted')\n",
    "print('Accuracy of the model on Testing Sample Data:', round(F1_Score,2))\n",
    "\n",
    "from sklearn.model_selection import cross_val_score\n",
    "\n",
    "Accuracy_Values=cross_val_score(KNN, X , y, cv=10, scoring='f1_weighted')\n",
    "print('\\nAccuracy values for 10-fold Cross Validation:\\n',Accuracy_Values)\n",
    "print('\\nFinal Average Accuracy of the model:', round(Accuracy_Values.mean(),2))\n",
    "\n"
   ]
  },
  {
   "cell_type": "markdown",
   "id": "726d6baa-13c3-4941-b616-f224d365fc15",
   "metadata": {},
   "source": [
    "# Support Vector Machines(SVM)"
   ]
  },
  {
   "cell_type": "code",
   "execution_count": null,
   "id": "102d51ff-03b2-4f43-b247-f9b4ce5e2e3b",
   "metadata": {},
   "outputs": [],
   "source": [
    "\n",
    "from sklearn import svm\n",
    "clf = svm.SVC(C=2, kernel='rbf', gamma=0.1)\n",
    "\n",
    "# Printing all the parameters of KNN\n",
    "print(clf)\n",
    "\n",
    "\n",
    "SVM=clf.fit(X_train,y_train)\n",
    "prediction=SVM.predict(X_test)\n",
    "\n",
    "\n",
    "from sklearn import metrics\n",
    "print(metrics.classification_report(y_test, prediction))\n",
    "print(metrics.confusion_matrix(y_test, prediction))\n",
    "\n",
    "\n",
    "F1_Score=metrics.f1_score(y_test, prediction, average='weighted')\n",
    "print('Accuracy of the model on Testing Sample Data:', round(F1_Score,2))\n",
    "\n",
    "from sklearn.model_selection import cross_val_score\n",
    "\n",
    "Accuracy_Values=cross_val_score(SVM, X , y, cv=10, scoring='f1_weighted')\n",
    "print('\\nAccuracy values for 10-fold Cross Validation:\\n',Accuracy_Values)\n",
    "print('\\nFinal Average Accuracy of the model:', round(Accuracy_Values.mean(),2))\n",
    "\n",
    "\n",
    "%matplotlib inline\n",
    "#feature_importances = pd.Series(SVM.coef_, index=Predictors)\n",
    "#feature_importances.nlargest(10).plot(kind='barh')"
   ]
  },
  {
   "cell_type": "markdown",
   "id": "749247c8-4a62-453f-96ad-d11bce0bafdf",
   "metadata": {},
   "source": [
    "# Naive Bayes"
   ]
  },
  {
   "cell_type": "code",
   "execution_count": null,
   "id": "19790903-fff1-423a-ae91-11803c029395",
   "metadata": {},
   "outputs": [],
   "source": [
    "\n",
    "from sklearn.naive_bayes import GaussianNB, MultinomialNB\n",
    "\n",
    "clf = GaussianNB()\n",
    "\n",
    "print(clf)\n",
    "\n",
    "NB=clf.fit(X_train,y_train)\n",
    "prediction=NB.predict(X_test)\n",
    "\n",
    "from sklearn import metrics\n",
    "print(metrics.classification_report(y_test, prediction))\n",
    "print(metrics.confusion_matrix(y_test, prediction))\n",
    "\n",
    "F1_Score=metrics.f1_score(y_test, prediction, average='weighted')\n",
    "print('Accuracy of the model on Testing Sample Data:', round(F1_Score,2))\n",
    "\n",
    "from sklearn.model_selection import cross_val_score\n",
    "\n",
    "Accuracy_Values=cross_val_score(NB, X , y, cv=10, scoring='f1_weighted')\n",
    "print('\\nAccuracy values for 10-fold Cross Validation:\\n',Accuracy_Values)\n",
    "print('\\nFinal Average Accuracy of the model:', round(Accuracy_Values.mean(),2))"
   ]
  },
  {
   "cell_type": "markdown",
   "id": "095a194d-8cc2-47f8-a8b1-f82915e69449",
   "metadata": {},
   "source": [
    "# logistic Regression\n"
   ]
  },
  {
   "cell_type": "code",
   "execution_count": null,
   "id": "1f0e8569-9d98-4b36-9987-adf32261b8d7",
   "metadata": {},
   "outputs": [],
   "source": [
    "\n",
    "from sklearn.linear_model import LogisticRegression\n",
    "clf = LogisticRegression(C=1,penalty='l2', solver='newton-cg')\n",
    "\n",
    "LOG=clf.fit(X_train,y_train)\n",
    "prediction=LOG.predict(X_test)\n",
    "\n",
    "from sklearn import metrics\n",
    "print(metrics.classification_report(y_test, prediction))\n",
    "print(metrics.confusion_matrix(y_test, prediction))\n",
    "\n",
    "F1_Score=metrics.f1_score(y_test, prediction, average='weighted')\n",
    "print('Accuracy of the model on Testing Sample Data:', round(F1_Score,2))\n",
    "\n",
    "from sklearn.model_selection import cross_val_score\n",
    "\n",
    "Accuracy_Values=cross_val_score(LOG, X , y, cv=10, scoring='f1_weighted')\n",
    "print('\\nAccuracy values for 10-fold Cross Validation:\\n',Accuracy_Values)\n",
    "print('\\nFinal Average Accuracy of the model:', round(Accuracy_Values.mean(),2))"
   ]
  },
  {
   "cell_type": "code",
   "execution_count": null,
   "id": "4f50c1cc-7ce3-4ad3-98e3-ba16410e48fc",
   "metadata": {},
   "outputs": [],
   "source": []
  }
 ],
 "metadata": {
  "kernelspec": {
   "display_name": "Python 3 (ipykernel)",
   "language": "python",
   "name": "python3"
  },
  "language_info": {
   "codemirror_mode": {
    "name": "ipython",
    "version": 3
   },
   "file_extension": ".py",
   "mimetype": "text/x-python",
   "name": "python",
   "nbconvert_exporter": "python",
   "pygments_lexer": "ipython3",
   "version": "3.7.11"
  }
 },
 "nbformat": 4,
 "nbformat_minor": 5
}
